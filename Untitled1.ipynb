{
 "cells": [
  {
   "cell_type": "code",
   "execution_count": 2,
   "metadata": {},
   "outputs": [],
   "source": [
    "from tensorflow import keras\n",
    "import zipfile\n",
    "import os\n"
   ]
  },
  {
   "cell_type": "code",
   "execution_count": 3,
   "metadata": {},
   "outputs": [],
   "source": [
    "import numpy as np"
   ]
  },
  {
   "cell_type": "code",
   "execution_count": 5,
   "metadata": {},
   "outputs": [],
   "source": [
    "local_zip='/home/kartik/Downloads/3258_5337_bundle_archive.zip'\n",
    "zip_ref=zipfile.ZipFile(local_zip,'r')\n",
    "location='/home/kartik/Desktop/tensorflow/data'#basedir\n",
    "zip_ref.extractall(location)\n",
    "zip_ref.close()"
   ]
  },
  {
   "cell_type": "code",
   "execution_count": 4,
   "metadata": {},
   "outputs": [],
   "source": [
    "import csv"
   ]
  },
  {
   "cell_type": "code",
   "execution_count": 5,
   "metadata": {},
   "outputs": [],
   "source": [
    "def create_dataset(path):\n",
    "    with open(path,'r') as file:\n",
    "        csv_reader=csv.reader(file,delimiter=',')\n",
    "        next(csv_reader)\n",
    "        labels=[]\n",
    "        images=[]\n",
    "        Semi_final=[]\n",
    "        for row in csv_reader:\n",
    "            labels.append(row[0])\n",
    "            img=[]\n",
    "            img.append(row[1:])\n",
    "            images.append(img)\n",
    "            \n",
    "        Labels=np.array(labels).astype('float')\n",
    "        for i in images:\n",
    "            i=np.array(i,dtype='float')\n",
    "            i=i.reshape(28,28)\n",
    "            Semi_final.append(i)\n",
    "        \n",
    "        Images=np.array(Semi_final,dtype='float')\n",
    "        return Labels,Images\n"
   ]
  },
  {
   "cell_type": "code",
   "execution_count": 6,
   "metadata": {},
   "outputs": [],
   "source": [
    "test_labels,test_images=create_dataset('/home/kartik/Desktop/tensorflow/data/sign_mnist_test.csv')"
   ]
  },
  {
   "cell_type": "code",
   "execution_count": 7,
   "metadata": {},
   "outputs": [],
   "source": [
    "train_labels,train_images=create_dataset('/home/kartik/Desktop/tensorflow/data/sign_mnist_train.csv')"
   ]
  },
  {
   "cell_type": "code",
   "execution_count": 8,
   "metadata": {},
   "outputs": [
    {
     "name": "stdout",
     "output_type": "stream",
     "text": [
      "(7172,)\n",
      "(7172, 28, 28)\n",
      "(27455, 28, 28)\n",
      "(27455,)\n"
     ]
    },
    {
     "data": {
      "image/png": "[encoded data removed]",
      "text/plain": [
       "<Figure size 432x288 with 1 Axes>"
      ]
     },
     "metadata": {
      "needs_background": "light"
     },
     "output_type": "display_data"
    }
   ],
   "source": [
    "print(test_labels.shape)\n",
    "print(test_images.shape)\n",
    "print(train_images.shape)\n",
    "print(train_labels.shape)\n",
    "%matplotlib inline\n",
    "from matplotlib import pyplot as plt\n",
    "plt.imshow(test_images[3], interpolation='nearest')\n",
    "plt.show()"
   ]
  },
  {
   "cell_type": "code",
   "execution_count": 9,
   "metadata": {},
   "outputs": [],
   "source": [
    "train_images=np.expand_dims(train_images,axis=3)\n",
    "test_images=np.expand_dims(test_images,axis=3)"
   ]
  },
  {
   "cell_type": "code",
   "execution_count": 10,
   "metadata": {},
   "outputs": [
    {
     "name": "stdout",
     "output_type": "stream",
     "text": [
      "(7172,)\n",
      "(7172, 28, 28, 1)\n",
      "(27455, 28, 28, 1)\n",
      "(27455,)\n"
     ]
    }
   ],
   "source": [
    "print(test_labels.shape)\n",
    "print(test_images.shape)\n",
    "print(train_images.shape)\n",
    "print(train_labels.shape)\n"
   ]
  },
  {
   "cell_type": "code",
   "execution_count": 11,
   "metadata": {},
   "outputs": [],
   "source": [
    "from tensorflow.keras.preprocessing.image import ImageDataGenerator\n",
    "train_datagen=ImageDataGenerator(rescale=1/255,rotation_range=2,width_shift_range=0.002,\n",
    "                                   height_shift_range=0.002,shear_range=0.002,zoom_range=0.002,\n",
    "                                   horizontal_flip=True,fill_mode='nearest')"
   ]
  },
  {
   "cell_type": "code",
   "execution_count": 12,
   "metadata": {},
   "outputs": [],
   "source": [
    "validation_datagen = ImageDataGenerator(rescale=1/255)"
   ]
  },
  {
   "cell_type": "code",
   "execution_count": 15,
   "metadata": {},
   "outputs": [
    {
     "name": "stdout",
     "output_type": "stream",
     "text": [
      "WARNING:tensorflow:From <ipython-input-15-1a54d7852a52>:20: Model.fit_generator (from tensorflow.python.keras.engine.training) is deprecated and will be removed in a future version.\n",
      "Instructions for updating:\n",
      "Please use Model.fit, which supports generators.\n",
      "WARNING:tensorflow:sample_weight modes were coerced from\n",
      "  ...\n",
      "    to  \n",
      "  ['...']\n",
      "WARNING:tensorflow:sample_weight modes were coerced from\n",
      "  ...\n",
      "    to  \n",
      "  ['...']\n",
      "Train for 250 steps, validate for 50 steps\n",
      "Epoch 1/25\n",
      "250/250 [==============================] - 22s 89ms/step - loss: 2.1794 - accuracy: 0.3207 - val_loss: 1.5138 - val_accuracy: 0.4863\n",
      "Epoch 2/25\n",
      "250/250 [==============================] - 21s 85ms/step - loss: 1.0993 - accuracy: 0.6293 - val_loss: 0.9469 - val_accuracy: 0.7006\n",
      "Epoch 3/25\n",
      "250/250 [==============================] - 23s 92ms/step - loss: 0.6841 - accuracy: 0.7646 - val_loss: 0.7627 - val_accuracy: 0.7550\n",
      "Epoch 4/25\n",
      "250/250 [==============================] - 24s 94ms/step - loss: 0.4534 - accuracy: 0.8416 - val_loss: 0.6714 - val_accuracy: 0.7906\n",
      "Epoch 5/25\n",
      "250/250 [==============================] - 24s 95ms/step - loss: 0.3210 - accuracy: 0.8886 - val_loss: 0.5602 - val_accuracy: 0.8419\n",
      "Epoch 6/25\n",
      "250/250 [==============================] - 23s 94ms/step - loss: 0.2274 - accuracy: 0.9223 - val_loss: 0.5592 - val_accuracy: 0.8462\n",
      "Epoch 7/25\n",
      "250/250 [==============================] - 26s 103ms/step - loss: 0.1630 - accuracy: 0.9440 - val_loss: 0.6611 - val_accuracy: 0.8194\n",
      "Epoch 8/25\n",
      "250/250 [==============================] - 26s 103ms/step - loss: 0.1267 - accuracy: 0.9575 - val_loss: 0.5636 - val_accuracy: 0.8569\n",
      "Epoch 9/25\n",
      "250/250 [==============================] - 26s 104ms/step - loss: 0.0995 - accuracy: 0.9665 - val_loss: 0.5259 - val_accuracy: 0.8819\n",
      "Epoch 10/25\n",
      "250/250 [==============================] - 21s 86ms/step - loss: 0.0860 - accuracy: 0.9711 - val_loss: 0.5799 - val_accuracy: 0.8725\n",
      "Epoch 11/25\n",
      "250/250 [==============================] - 22s 89ms/step - loss: 0.0683 - accuracy: 0.9774 - val_loss: 0.5228 - val_accuracy: 0.8744\n",
      "Epoch 12/25\n",
      "250/250 [==============================] - 29s 116ms/step - loss: 0.0562 - accuracy: 0.9812 - val_loss: 0.6231 - val_accuracy: 0.8900\n",
      "Epoch 13/25\n",
      "250/250 [==============================] - 23s 92ms/step - loss: 0.0492 - accuracy: 0.9831 - val_loss: 0.5381 - val_accuracy: 0.8906\n",
      "Epoch 14/25\n",
      "250/250 [==============================] - 20s 80ms/step - loss: 0.0436 - accuracy: 0.9858 - val_loss: 0.5973 - val_accuracy: 0.8881\n",
      "Epoch 15/25\n",
      "250/250 [==============================] - 25s 100ms/step - loss: 0.0394 - accuracy: 0.9867 - val_loss: 0.6352 - val_accuracy: 0.8888\n",
      "Epoch 16/25\n",
      "250/250 [==============================] - 21s 85ms/step - loss: 0.0381 - accuracy: 0.9868 - val_loss: 0.5377 - val_accuracy: 0.8956\n",
      "Epoch 17/25\n",
      "250/250 [==============================] - 23s 94ms/step - loss: 0.0312 - accuracy: 0.9900 - val_loss: 0.5925 - val_accuracy: 0.9050\n",
      "Epoch 18/25\n",
      "250/250 [==============================] - 25s 99ms/step - loss: 0.0293 - accuracy: 0.9911 - val_loss: 0.5684 - val_accuracy: 0.9050\n",
      "Epoch 19/25\n",
      "250/250 [==============================] - 24s 97ms/step - loss: 0.0301 - accuracy: 0.9896 - val_loss: 0.5522 - val_accuracy: 0.9069\n",
      "Epoch 20/25\n",
      "250/250 [==============================] - 24s 97ms/step - loss: 0.0273 - accuracy: 0.9906 - val_loss: 0.6305 - val_accuracy: 0.8938\n",
      "Epoch 21/25\n",
      "250/250 [==============================] - 23s 93ms/step - loss: 0.0245 - accuracy: 0.9915 - val_loss: 0.6090 - val_accuracy: 0.9000\n",
      "Epoch 22/25\n",
      "250/250 [==============================] - 22s 87ms/step - loss: 0.0204 - accuracy: 0.9927 - val_loss: 0.6072 - val_accuracy: 0.9144\n",
      "Epoch 23/25\n",
      "250/250 [==============================] - 25s 100ms/step - loss: 0.0229 - accuracy: 0.9927 - val_loss: 0.7015 - val_accuracy: 0.8975\n",
      "Epoch 24/25\n",
      "250/250 [==============================] - 24s 97ms/step - loss: 0.0193 - accuracy: 0.9935 - val_loss: 0.5760 - val_accuracy: 0.9100\n",
      "Epoch 25/25\n",
      "250/250 [==============================] - 24s 97ms/step - loss: 0.0173 - accuracy: 0.9941 - val_loss: 0.6449 - val_accuracy: 0.9019\n"
     ]
    },
    {
     "data": {
      "text/plain": [
       "[361.7464919933313, 0.7773285]"
      ]
     },
     "execution_count": 15,
     "metadata": {},
     "output_type": "execute_result"
    }
   ],
   "source": [
    "model = keras.models.Sequential([keras.layers.Conv2D(16,(3,3),input_shape=(28,28,1)),\n",
    "                                    keras.layers.MaxPooling2D(2,2),\n",
    "                                    keras.layers.Conv2D(32,(3,3)),\n",
    "                                    keras.layers.MaxPooling2D(2,2),\n",
    "                                    keras.layers.Conv2D(64,(3,3)),\n",
    "                                    keras.layers.MaxPooling2D(2,2),\n",
    "                                    keras.layers.Dropout(0.2),\n",
    "                                    keras.layers.Flatten(),\n",
    "                                    keras.layers.Dense(512,activation='relu'),\n",
    "                                    keras.layers.Dense(25,activation='softmax')])\n",
    "\n",
    "# Compile Model. \n",
    "model.compile(loss='sparse_categorical_crossentropy',optimizer='rmsprop',metrics=['accuracy'])\n",
    "\n",
    "# Train the Model\n",
    "history = model.fit_generator(train_datagen.flow(train_images,train_labels,batch_size=100),\n",
    "                              steps_per_epoch=250,\n",
    "                              epochs=25,\n",
    "                              validation_data=validation_datagen.flow(test_images, test_labels, batch_size=32),\n",
    "                              validation_steps=50)\n",
    "# history=model.fit(train_images,train_labels,epochs=25,validation_data=(test_images, test_labels))\n",
    "\n",
    "model.evaluate(test_images, test_labels, verbose=0)"
   ]
  },
  {
   "cell_type": "code",
   "execution_count": 16,
   "metadata": {},
   "outputs": [
    {
     "data": {
      "image/png": "[encoded data removed]",
      "text/plain": [
       "<Figure size 432x288 with 1 Axes>"
      ]
     },
     "metadata": {
      "needs_background": "light"
     },
     "output_type": "display_data"
    },
    {
     "data": {
      "image/png": "[encoded data removed]",
      "text/plain": [
       "<Figure size 432x288 with 1 Axes>"
      ]
     },
     "metadata": {
      "needs_background": "light"
     },
     "output_type": "display_data"
    }
   ],
   "source": [
    "%matplotlib inline\n",
    "import matplotlib.pyplot as plt\n",
    "acc = history.history['accuracy']\n",
    "val_acc = history.history['val_accuracy']\n",
    "loss = history.history['loss']\n",
    "val_loss = history.history['val_loss']\n",
    "\n",
    "epochs = range(len(acc))\n",
    "\n",
    "plt.plot(epochs, acc, 'r', label='Training accuracy')\n",
    "plt.plot(epochs, val_acc, 'b', label='Validation accuracy')\n",
    "plt.title('Training and validation accuracy')\n",
    "plt.legend()\n",
    "plt.figure()\n",
    "\n",
    "plt.plot(epochs, loss, 'r', label='Training Loss')\n",
    "plt.plot(epochs, val_loss, 'b', label='Validation Loss')\n",
    "plt.title('Training and validation loss')\n",
    "plt.legend()\n",
    "\n",
    "plt.show()"
   ]
  },
  {
   "cell_type": "code",
   "execution_count": 17,
   "metadata": {},
   "outputs": [],
   "source": [
    "model.save('my_model.h5')"
   ]
  },
  {
   "cell_type": "code",
   "execution_count": null,
   "metadata": {},
   "outputs": [],
   "source": [
    "#trial model trying here "
   ]
  },
  {
   "cell_type": "code",
   "execution_count": null,
   "metadata": {},
   "outputs": [],
   "source": []
  },
  {
   "cell_type": "code",
   "execution_count": null,
   "metadata": {},
   "outputs": [],
   "source": []
  },
  {
   "cell_type": "code",
   "execution_count": null,
   "metadata": {},
   "outputs": [],
   "source": [
    "#for checking the model use the code below"
   ]
  },
  {
   "cell_type": "code",
   "execution_count": 15,
   "metadata": {},
   "outputs": [],
   "source": [
    "from tensorflow.keras.preprocessing import image"
   ]
  },
  {
   "cell_type": "code",
   "execution_count": 23,
   "metadata": {},
   "outputs": [],
   "source": [
    "x=train_images[0]\n",
    "x = np.expand_dims(x, axis=0)\n",
    "images = np.vstack([x])\n",
    "classes=model.predict(images, batch_size=10)"
   ]
  },
  {
   "cell_type": "code",
   "execution_count": 26,
   "metadata": {},
   "outputs": [
    {
     "name": "stdout",
     "output_type": "stream",
     "text": [
      "25\n"
     ]
    }
   ],
   "source": [
    "print(len(classes[0]))"
   ]
  },
  {
   "cell_type": "code",
   "execution_count": 81,
   "metadata": {},
   "outputs": [
    {
     "name": "stdout",
     "output_type": "stream",
     "text": [
      "[[0. 0. 0. 0. 0. 0. 0. 0. 0. 0. 0. 0. 0. 0. 0. 1. 0. 0. 0. 0. 0. 0. 0. 0.\n",
      "  0.]]\n"
     ]
    }
   ],
   "source": [
    "import cv2\n",
    "img=image.load_img('/home/kartik/Documents/opencv/imp.png',target_size=(28,28),grayscale=True)\n",
    "img.show()\n",
    "# img=cv2.cvtColor(img, cv2.COLOR_BGR2GRAY)\n",
    "x = image.img_to_array(img)\n",
    "x = np.expand_dims(x, axis=0)\n",
    "images = np.vstack([x])\n",
    "classes=model.predict(images, batch_size=10)\n",
    "print(classes)"
   ]
  },
  {
   "cell_type": "code",
   "execution_count": 82,
   "metadata": {},
   "outputs": [],
   "source": []
  },
  {
   "cell_type": "code",
   "execution_count": 85,
   "metadata": {},
   "outputs": [],
   "source": []
  },
  {
   "cell_type": "code",
   "execution_count": 95,
   "metadata": {},
   "outputs": [],
   "source": []
  },
  {
   "cell_type": "code",
   "execution_count": null,
   "metadata": {},
   "outputs": [],
   "source": []
  },
  {
   "cell_type": "code",
   "execution_count": null,
   "metadata": {},
   "outputs": [],
   "source": []
  },
  {
   "cell_type": "code",
   "execution_count": null,
   "metadata": {},
   "outputs": [],
   "source": []
  },
  {
   "cell_type": "code",
   "execution_count": null,
   "metadata": {},
   "outputs": [],
   "source": []
  },
  {
   "cell_type": "code",
   "execution_count": null,
   "metadata": {},
   "outputs": [],
   "source": []
  },
  {
   "cell_type": "code",
   "execution_count": null,
   "metadata": {},
   "outputs": [],
   "source": []
  },
  {
   "cell_type": "code",
   "execution_count": null,
   "metadata": {},
   "outputs": [],
   "source": []
  }
 ],
 "metadata": {
  "kernelspec": {
   "display_name": "Python 3",
   "language": "python",
   "name": "python3"
  },
  "language_info": {
   "codemirror_mode": {
    "name": "ipython",
    "version": 3
   },
   "file_extension": ".py",
   "mimetype": "text/x-python",
   "name": "python",
   "nbconvert_exporter": "python",
   "pygments_lexer": "ipython3",
   "version": "3.6.9"
  }
 },
 "nbformat": 4,
 "nbformat_minor": 2
}
